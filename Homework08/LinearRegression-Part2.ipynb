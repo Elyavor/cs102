{
 "cells": [
  {
   "cell_type": "code",
   "execution_count": 4,
   "metadata": {},
   "outputs": [],
   "source": [
    "%matplotlib inline\n",
    "\n",
    "import pandas as pd\n",
    "import numpy as np\n",
    "import matplotlib.pyplot as plt\n",
    "import seaborn as sns\n",
    "plt.style.use(\"seaborn\")\n",
    "from sklearn.model_selection import train_test_split\n",
    "from math import sqrt\n",
    "import numpy as np"
   ]
  },
  {
   "cell_type": "code",
   "execution_count": 2,
   "metadata": {},
   "outputs": [],
   "source": [
    "from sklearn.datasets import load_boston\n",
    "boston = load_boston()"
   ]
  },
  {
   "cell_type": "code",
   "execution_count": 3,
   "metadata": {},
   "outputs": [
    {
     "data": {
      "text/html": [
       "<div>\n",
       "<style scoped>\n",
       "    .dataframe tbody tr th:only-of-type {\n",
       "        vertical-align: middle;\n",
       "    }\n",
       "\n",
       "    .dataframe tbody tr th {\n",
       "        vertical-align: top;\n",
       "    }\n",
       "\n",
       "    .dataframe thead th {\n",
       "        text-align: right;\n",
       "    }\n",
       "</style>\n",
       "<table border=\"1\" class=\"dataframe\">\n",
       "  <thead>\n",
       "    <tr style=\"text-align: right;\">\n",
       "      <th></th>\n",
       "      <th>CRIM</th>\n",
       "      <th>ZN</th>\n",
       "      <th>INDUS</th>\n",
       "      <th>CHAS</th>\n",
       "      <th>NOX</th>\n",
       "      <th>RM</th>\n",
       "      <th>AGE</th>\n",
       "      <th>DIS</th>\n",
       "      <th>RAD</th>\n",
       "      <th>TAX</th>\n",
       "      <th>PTRATIO</th>\n",
       "      <th>B</th>\n",
       "      <th>LSTAT</th>\n",
       "      <th>MEDV</th>\n",
       "    </tr>\n",
       "  </thead>\n",
       "  <tbody>\n",
       "    <tr>\n",
       "      <th>0</th>\n",
       "      <td>0.00632</td>\n",
       "      <td>18.0</td>\n",
       "      <td>2.31</td>\n",
       "      <td>0.0</td>\n",
       "      <td>0.538</td>\n",
       "      <td>6.575</td>\n",
       "      <td>65.2</td>\n",
       "      <td>4.0900</td>\n",
       "      <td>1.0</td>\n",
       "      <td>296.0</td>\n",
       "      <td>15.3</td>\n",
       "      <td>396.90</td>\n",
       "      <td>4.98</td>\n",
       "      <td>24.0</td>\n",
       "    </tr>\n",
       "    <tr>\n",
       "      <th>1</th>\n",
       "      <td>0.02731</td>\n",
       "      <td>0.0</td>\n",
       "      <td>7.07</td>\n",
       "      <td>0.0</td>\n",
       "      <td>0.469</td>\n",
       "      <td>6.421</td>\n",
       "      <td>78.9</td>\n",
       "      <td>4.9671</td>\n",
       "      <td>2.0</td>\n",
       "      <td>242.0</td>\n",
       "      <td>17.8</td>\n",
       "      <td>396.90</td>\n",
       "      <td>9.14</td>\n",
       "      <td>21.6</td>\n",
       "    </tr>\n",
       "    <tr>\n",
       "      <th>2</th>\n",
       "      <td>0.02729</td>\n",
       "      <td>0.0</td>\n",
       "      <td>7.07</td>\n",
       "      <td>0.0</td>\n",
       "      <td>0.469</td>\n",
       "      <td>7.185</td>\n",
       "      <td>61.1</td>\n",
       "      <td>4.9671</td>\n",
       "      <td>2.0</td>\n",
       "      <td>242.0</td>\n",
       "      <td>17.8</td>\n",
       "      <td>392.83</td>\n",
       "      <td>4.03</td>\n",
       "      <td>34.7</td>\n",
       "    </tr>\n",
       "    <tr>\n",
       "      <th>3</th>\n",
       "      <td>0.03237</td>\n",
       "      <td>0.0</td>\n",
       "      <td>2.18</td>\n",
       "      <td>0.0</td>\n",
       "      <td>0.458</td>\n",
       "      <td>6.998</td>\n",
       "      <td>45.8</td>\n",
       "      <td>6.0622</td>\n",
       "      <td>3.0</td>\n",
       "      <td>222.0</td>\n",
       "      <td>18.7</td>\n",
       "      <td>394.63</td>\n",
       "      <td>2.94</td>\n",
       "      <td>33.4</td>\n",
       "    </tr>\n",
       "    <tr>\n",
       "      <th>4</th>\n",
       "      <td>0.06905</td>\n",
       "      <td>0.0</td>\n",
       "      <td>2.18</td>\n",
       "      <td>0.0</td>\n",
       "      <td>0.458</td>\n",
       "      <td>7.147</td>\n",
       "      <td>54.2</td>\n",
       "      <td>6.0622</td>\n",
       "      <td>3.0</td>\n",
       "      <td>222.0</td>\n",
       "      <td>18.7</td>\n",
       "      <td>396.90</td>\n",
       "      <td>5.33</td>\n",
       "      <td>36.2</td>\n",
       "    </tr>\n",
       "  </tbody>\n",
       "</table>\n",
       "</div>"
      ],
      "text/plain": [
       "      CRIM    ZN  INDUS  CHAS    NOX     RM   AGE     DIS  RAD    TAX  \\\n",
       "0  0.00632  18.0   2.31   0.0  0.538  6.575  65.2  4.0900  1.0  296.0   \n",
       "1  0.02731   0.0   7.07   0.0  0.469  6.421  78.9  4.9671  2.0  242.0   \n",
       "2  0.02729   0.0   7.07   0.0  0.469  7.185  61.1  4.9671  2.0  242.0   \n",
       "3  0.03237   0.0   2.18   0.0  0.458  6.998  45.8  6.0622  3.0  222.0   \n",
       "4  0.06905   0.0   2.18   0.0  0.458  7.147  54.2  6.0622  3.0  222.0   \n",
       "\n",
       "   PTRATIO       B  LSTAT  MEDV  \n",
       "0     15.3  396.90   4.98  24.0  \n",
       "1     17.8  396.90   9.14  21.6  \n",
       "2     17.8  392.83   4.03  34.7  \n",
       "3     18.7  394.63   2.94  33.4  \n",
       "4     18.7  396.90   5.33  36.2  "
      ]
     },
     "execution_count": 3,
     "metadata": {},
     "output_type": "execute_result"
    }
   ],
   "source": [
    "data = pd.DataFrame(data=boston.data, columns=boston.feature_names)\n",
    "data[\"MEDV\"] = boston.target\n",
    "data.head()"
   ]
  },
  {
   "cell_type": "code",
   "execution_count": 5,
   "metadata": {},
   "outputs": [],
   "source": [
    "# Векторизованная реализация Mini-Batch Gradient Descent\n",
    "class MiniBatchGDR:\n",
    "\n",
    "    def __init__(self, alpha=0.01, epochs=100, batch_size=10):\n",
    "        self.alpha = alpha\n",
    "        self.epochs = epochs\n",
    "        self.batch_size = batch_size\n",
    "\n",
    "    def fit(self, X, y):\n",
    "        precision = 0.001\n",
    "\n",
    "        if len(X.shape) == 1:\n",
    "            m, n = X.shape[0], 1\n",
    "        else:\n",
    "            m, n = X.shape\n",
    "            \n",
    "        self.theta = np.full((n,), 0.33)\n",
    "        \n",
    "        for j in range(self.epochs):\n",
    "            theta_old = tuple(self.theta)\n",
    "\n",
    "            for k in range(0, m, self.batch_size):\n",
    "                size = min(self.batch_size, m - k)\n",
    "                start = k\n",
    "                stop = k + size\n",
    "#                 print('start =', start, 'stop =', stop, 'size =', size)\n",
    "\n",
    "                X_cur = X[start:stop]\n",
    "                y_cur = y[start:stop]\n",
    "\n",
    "                y_hypoth = X_cur.dot(self.theta)\n",
    "                self.grad = X_cur.T.dot(y_hypoth.values - y_cur.values) / size\n",
    "\n",
    "#                 if not self.gradient_check(X_cur, y_cur):\n",
    "#                     print('gradient is incorrect!')\n",
    "#                     return\n",
    "                self.theta = self.theta - self.alpha * self.grad\n",
    "\n",
    "            precise = True\n",
    "            for i in range(n):\n",
    "                if abs(theta_old[i] - self.theta[i]) > precision:\n",
    "                    precise = False\n",
    "                    break\n",
    "            if precise:\n",
    "                print('epoch', str(j) + ': precise enough')\n",
    "                break\n",
    "\n",
    "    def predict(self, X_test):\n",
    "        return X_test.dot(self.theta)\n",
    "\n",
    "    def gradient_check(self, X, y):\n",
    "        e = 10e-7\n",
    "        if len(X.shape) == 1:\n",
    "            m, n = X.shape[0], 1\n",
    "        else:\n",
    "            m, n = X.shape[0], X.shape[1]\n",
    "\n",
    "        for j in range(len(self.grad)):\n",
    "            vector = np.full((n,), 0)\n",
    "            vector[j] = 1\n",
    "            cur_theta = self.theta + vector * e\n",
    "            J_plus = sum((X.dot(cur_theta) - y) ** 2) / (2 * m)\n",
    "\n",
    "            cur_theta = self.theta - vector * e\n",
    "            J_minus = sum((X.dot(cur_theta) - y) ** 2) / (2 * m)\n",
    "\n",
    "            if abs((J_plus - J_minus) / (2 * e) - self.grad[j]) > e:\n",
    "                return False\n",
    "        return True"
   ]
  },
  {
   "cell_type": "code",
   "execution_count": 6,
   "metadata": {},
   "outputs": [],
   "source": [
    "def min_max(X):\n",
    "    if len(X.shape) == 1:\n",
    "        X = [(x - min(X)) / (max(X) - min(X)) for x in X]\n",
    "        return\n",
    "    \n",
    "    for col in X.columns:\n",
    "        if max(X[col]) == min(X[col]):\n",
    "            X[col] = 1\n",
    "        else:\n",
    "            X[col] = [(x - min(X[col])) / (max(X[col]) - min(X[col])) for x in X[col]]"
   ]
  },
  {
   "cell_type": "code",
   "execution_count": 7,
   "metadata": {},
   "outputs": [],
   "source": [
    "def z_scaler(X):\n",
    "    if len(X.shape) == 1:\n",
    "        x_mean = sum(X) / len(X)\n",
    "        std_dev = sqrt(sum([(x - x_mean) ** 2 for x in X]) / (len(X) - 1))\n",
    "        X = [(x - x_mean) / std_dev for x in X]\n",
    "        return\n",
    "    \n",
    "    for col in X.columns:\n",
    "        x_mean = sum(X[col]) / len(X[col])\n",
    "        std_dev = sqrt(sum([(x - x_mean) ** 2 for x in X[col]]) / (len(X[col]) - 1))\n",
    "        X[col] = [(x - x_mean) / std_dev for x in X[col]]"
   ]
  },
  {
   "cell_type": "code",
   "execution_count": 8,
   "metadata": {},
   "outputs": [],
   "source": [
    "def rmse(y_hypoth, y):\n",
    "    m = len(y)\n",
    "    return sqrt(sum((y_hypoth.values - y.values) ** 2) / m)"
   ]
  },
  {
   "cell_type": "code",
   "execution_count": 9,
   "metadata": {},
   "outputs": [],
   "source": [
    "def r_squared(y_hypoth, y):\n",
    "    m = len(y)\n",
    "    y_mean = sum(y) / m\n",
    "    return 1 - sum((y_hypoth - y_mean)** 2) / sum((y - y_mean)** 2)"
   ]
  },
  {
   "cell_type": "code",
   "execution_count": 10,
   "metadata": {},
   "outputs": [],
   "source": [
    "# Mini-Batch Gradient Descent для признаков RM и LSTAT\n",
    "X_filtered = data[(data[\"MEDV\"] < 50)][[\"RM\", \"LSTAT\"]]\n",
    "X_filtered[\"BIAS\"] = 1\n",
    "y_filtered = data[(data[\"MEDV\"] < 50)][\"MEDV\"]"
   ]
  },
  {
   "cell_type": "code",
   "execution_count": 22,
   "metadata": {},
   "outputs": [],
   "source": [
    "min_max(X_filtered)\n",
    "min_max(y_filtered)"
   ]
  },
  {
   "cell_type": "code",
   "execution_count": 12,
   "metadata": {},
   "outputs": [
    {
     "name": "stdout",
     "output_type": "stream",
     "text": [
      "epoch 781: precise enough\n",
      "Wall time: 30.3 s\n"
     ]
    }
   ],
   "source": [
    "X_train, X_test, Y_train, Y_test = train_test_split(X_filtered, y_filtered, test_size=0.33, random_state=18)\n",
    "model = MiniBatchGDR(alpha=0.01, epochs=1000, batch_size=10)\n",
    "%time model.fit(X_train, Y_train)"
   ]
  },
  {
   "cell_type": "code",
   "execution_count": 13,
   "metadata": {},
   "outputs": [
    {
     "data": {
      "text/plain": [
       "RM       20.385402\n",
       "LSTAT   -22.895037\n",
       "BIAS     17.809678\n",
       "dtype: float64"
      ]
     },
     "execution_count": 13,
     "metadata": {},
     "output_type": "execute_result"
    }
   ],
   "source": [
    "model.theta"
   ]
  },
  {
   "cell_type": "code",
   "execution_count": 14,
   "metadata": {},
   "outputs": [
    {
     "data": {
      "text/plain": [
       "(4.680611059690624, 0.27618167676272065)"
      ]
     },
     "execution_count": 14,
     "metadata": {},
     "output_type": "execute_result"
    }
   ],
   "source": [
    "Y_hypoth = model.predict(X_test)\n",
    "rmse(Y_hypoth, Y_test), r_squared(Y_hypoth, Y_test)"
   ]
  },
  {
   "cell_type": "code",
   "execution_count": 15,
   "metadata": {},
   "outputs": [],
   "source": [
    "class LassoRegression:\n",
    "\n",
    "    def __init__(self, n_iter=100, l1 = 0.1, intercept=False):\n",
    "        self.n_iter = n_iter\n",
    "        self.l1 = l1\n",
    "        self.intercept = intercept\n",
    "\n",
    "    def fit(self, X, y):\n",
    "        precision = 0.001\n",
    "\n",
    "        if len(X.shape) == 1:\n",
    "            m, n = X.shape[0], 1\n",
    "        else:\n",
    "            m, n = X.shape\n",
    "        \n",
    "        self.theta = np.full((n,), 0.33)\n",
    "        col_names = X.columns\n",
    "        \n",
    "        for i in range(self.n_iter):\n",
    "            theta_old = tuple(self.theta)\n",
    "            \n",
    "            for j in range(n):\n",
    "                \n",
    "                x_j = X[col_names[j]]                \n",
    "                y_hypoth = X.dot(self.theta)\n",
    "                rho = x_j.T.dot(pd.Series(y.values - y_hypoth.values + self.theta[j] * x_j))\n",
    "                z_j = sum(x_j ** 2)\n",
    "            \n",
    "                if self.intercept and j == 0:\n",
    "                    self.theta[j] = rho / z_j\n",
    "                    continue\n",
    "                    \n",
    "                if rho < - self.l1:  \n",
    "                    self.theta[j] = (rho + self.l1) / z_j\n",
    "                elif rho > self.l1:\n",
    "                    self.theta[j] = (rho - self.l1) / z_j\n",
    "                else:\n",
    "                    self.theta[j] = int(0)\n",
    "\n",
    "            precise = True\n",
    "            for k in range(n):\n",
    "                if abs(theta_old[k] - self.theta[k]) > precision:\n",
    "                    precise = False\n",
    "                    break\n",
    "            if precise:\n",
    "                print('iteration', str(i) + ': precise enough')\n",
    "                break\n",
    "\n",
    "    def predict(self, X_test):\n",
    "        return X_test.dot(self.theta)"
   ]
  },
  {
   "cell_type": "code",
   "execution_count": 17,
   "metadata": {},
   "outputs": [
    {
     "name": "stdout",
     "output_type": "stream",
     "text": [
      "iteration 18: precise enough\n",
      "Wall time: 144 ms\n"
     ]
    }
   ],
   "source": [
    "X_train, X_test, Y_train, Y_test = train_test_split(X_filtered, y_filtered, test_size=0.33, random_state=18)\n",
    "model = LassoRegression(n_iter=1000, l1=100, intercept=True)\n",
    "%time model.fit(X_train, Y_train)"
   ]
  },
  {
   "cell_type": "code",
   "execution_count": 27,
   "metadata": {},
   "outputs": [
    {
     "ename": "NameError",
     "evalue": "name 'get_feature_names' is not defined",
     "output_type": "error",
     "traceback": [
      "\u001b[1;31m---------------------------------------------------------------------------\u001b[0m",
      "\u001b[1;31mNameError\u001b[0m                                 Traceback (most recent call last)",
      "\u001b[1;32m<ipython-input-27-74c42009048e>\u001b[0m in \u001b[0;36m<module>\u001b[1;34m\u001b[0m\n\u001b[1;32m----> 1\u001b[1;33m \u001b[1;32mfor\u001b[0m \u001b[0mi\u001b[0m \u001b[1;32min\u001b[0m \u001b[0mrange\u001b[0m\u001b[1;33m(\u001b[0m\u001b[0mlen\u001b[0m\u001b[1;33m(\u001b[0m\u001b[0mget_feature_names\u001b[0m\u001b[1;33m(\u001b[0m\u001b[0mX_filtered\u001b[0m\u001b[1;33m.\u001b[0m\u001b[0mcolumns\u001b[0m\u001b[1;33m)\u001b[0m\u001b[1;33m)\u001b[0m\u001b[1;33m)\u001b[0m\u001b[1;33m:\u001b[0m\u001b[1;33m\u001b[0m\u001b[1;33m\u001b[0m\u001b[0m\n\u001b[0m\u001b[0;32m      2\u001b[0m     \u001b[1;32mif\u001b[0m \u001b[0mmodel\u001b[0m\u001b[1;33m.\u001b[0m\u001b[0mtheta\u001b[0m\u001b[1;33m[\u001b[0m\u001b[0mi\u001b[0m\u001b[1;33m]\u001b[0m \u001b[1;33m!=\u001b[0m \u001b[1;36m0\u001b[0m\u001b[1;33m:\u001b[0m\u001b[1;33m\u001b[0m\u001b[1;33m\u001b[0m\u001b[0m\n\u001b[0;32m      3\u001b[0m         \u001b[0mprint\u001b[0m\u001b[1;33m(\u001b[0m\u001b[0mget_feature_names\u001b[0m\u001b[1;33m(\u001b[0m\u001b[0mX_filtered\u001b[0m\u001b[1;33m.\u001b[0m\u001b[0mcolumns\u001b[0m\u001b[1;33m)\u001b[0m\u001b[1;33m[\u001b[0m\u001b[0mi\u001b[0m\u001b[1;33m]\u001b[0m\u001b[1;33m,\u001b[0m \u001b[1;34m':'\u001b[0m\u001b[1;33m,\u001b[0m \u001b[0mmodel\u001b[0m\u001b[1;33m.\u001b[0m\u001b[0mtheta\u001b[0m\u001b[1;33m[\u001b[0m\u001b[0mi\u001b[0m\u001b[1;33m]\u001b[0m\u001b[1;33m)\u001b[0m\u001b[1;33m\u001b[0m\u001b[1;33m\u001b[0m\u001b[0m\n",
      "\u001b[1;31mNameError\u001b[0m: name 'get_feature_names' is not defined"
     ]
    }
   ],
   "source": [
    "for i in range(len(get_feature_names(X_filtered.columns))):\n",
    "    if model.theta[i] != 0:\n",
    "        print(get_feature_names(X_filtered.columns)[i], ':', model.theta[i])"
   ]
  },
  {
   "cell_type": "code",
   "execution_count": 19,
   "metadata": {},
   "outputs": [
    {
     "data": {
      "text/plain": [
       "(5.250901813079983, 0.43391190188257145)"
      ]
     },
     "execution_count": 19,
     "metadata": {},
     "output_type": "execute_result"
    }
   ],
   "source": [
    "Y_hypoth = model.predict(X_test)\n",
    "rmse(Y_hypoth, Y_test), r_squared(Y_hypoth, Y_test)"
   ]
  },
  {
   "cell_type": "code",
   "execution_count": 28,
   "metadata": {},
   "outputs": [
    {
     "name": "stdout",
     "output_type": "stream",
     "text": [
      "1\n",
      "iteration 2: precise enough\n",
      "Wall time: 6.98 ms\n",
      "10\n",
      "iteration 2: precise enough\n",
      "Wall time: 6.03 ms\n",
      "50\n",
      "iteration 2: precise enough\n",
      "Wall time: 8.03 ms\n",
      "100\n",
      "iteration 2: precise enough\n",
      "Wall time: 7.03 ms\n",
      "200\n",
      "iteration 2: precise enough\n",
      "Wall time: 7.04 ms\n",
      "275\n",
      "iteration 9: precise enough\n",
      "Wall time: 23 ms\n",
      "328\n",
      "iteration 18: precise enough\n",
      "Wall time: 46.9 ms\n"
     ]
    }
   ],
   "source": [
    "X_train, X_test, Y_train, Y_test = train_test_split(X_filtered, y_filtered, test_size=0.33, random_state=18)\n",
    "set_sizes = [1, 10, 50, 100, 200, 275, 328]\n",
    "\n",
    "train_mse, test_mse = [0] * len(set_sizes), [0] * len(set_sizes)\n",
    "\n",
    "for j in range(len(set_sizes)):\n",
    "    size = set_sizes[j]\n",
    "    print(size)\n",
    "    X_train_cur, Y_train_cur = X_train[:size], Y_train[:size]\n",
    "    \n",
    "    model = LassoRegression(n_iter=1000, l1=100, intercept=True)\n",
    "    %time model.fit(X_train_cur, Y_train_cur)\n",
    "#     print(model.theta)\n",
    "    \n",
    "    train_mse[j] = sum((X_train_cur.dot(model.theta).values - Y_train_cur.values)**2)\n",
    "    Y_hypoth = model.predict(X_test)\n",
    "    test_mse[j] = sum((Y_hypoth.values - Y_test.values)**2)"
   ]
  },
  {
   "cell_type": "code",
   "execution_count": 29,
   "metadata": {},
   "outputs": [
    {
     "name": "stdout",
     "output_type": "stream",
     "text": [
      "[0.0, 138.82316234899832, 1308.7121424717254, 3230.497469976271, 6406.299317405912, 9258.77124576101, 9996.055981331072]\n",
      "[5014.328577602223, 5626.505828868871, 5024.63082390146, 5013.476271636603, 5046.695879409338, 4682.479112675801, 4466.6591157982775]\n"
     ]
    }
   ],
   "source": [
    "print(train_mse)\n",
    "print(test_mse)"
   ]
  },
  {
   "cell_type": "code",
   "execution_count": 30,
   "metadata": {},
   "outputs": [
    {
     "data": {
      "text/plain": [
       "[<matplotlib.lines.Line2D at 0xfd79dd0>]"
      ]
     },
     "execution_count": 30,
     "metadata": {},
     "output_type": "execute_result"
    },
    {
     "data": {
      "image/png": "[encoded data removed]",
      "text/plain": [
       "<Figure size 576x396 with 1 Axes>"
      ]
     },
     "metadata": {},
     "output_type": "display_data"
    }
   ],
   "source": [
    "plt.plot(set_sizes, train_mse, '.b-')\n",
    "plt.xlabel(\"training set size\")\n",
    "plt.ylabel(\"MSE\")\n",
    "plt.plot(set_sizes, test_mse, '.r-')"
   ]
  },
  {
   "cell_type": "code",
   "execution_count": 31,
   "metadata": {},
   "outputs": [
    {
     "name": "stdout",
     "output_type": "stream",
     "text": [
      "1\n",
      "iteration 228: precise enough\n",
      "Wall time: 590 ms\n",
      "10\n",
      "iteration 223: precise enough\n",
      "Wall time: 522 ms\n",
      "25\n",
      "iteration 213: precise enough\n",
      "Wall time: 484 ms\n",
      "50\n",
      "iteration 185: precise enough\n",
      "Wall time: 444 ms\n",
      "100\n",
      "iteration 18: precise enough\n",
      "Wall time: 45.9 ms\n",
      "150\n",
      "iteration 11: precise enough\n",
      "Wall time: 27.9 ms\n",
      "200\n",
      "iteration 2: precise enough\n",
      "Wall time: 6.98 ms\n",
      "250\n",
      "iteration 2: precise enough\n",
      "Wall time: 6.95 ms\n"
     ]
    }
   ],
   "source": [
    "X_train, X_test, Y_train, Y_test = train_test_split(X_filtered, y_filtered, test_size=0.33, random_state=18)\n",
    "l_options = [1, 10, 25, 50, 100, 150, 200, 250]\n",
    "\n",
    "train_mse, test_mse = [0] * len(l_options), [0] * len(l_options)\n",
    "\n",
    "for j in range(len(l_options)):\n",
    "    l_this = l_options[j]\n",
    "    print(l_this)    \n",
    "    model = LassoRegression(n_iter=1000, l1=l_this, intercept=True)\n",
    "    %time model.fit(X_train, Y_train)\n",
    "    \n",
    "    train_mse[j] = sum((X_train.dot(model.theta).values - Y_train.values)**2)\n",
    "    Y_hypoth = model.predict(X_test)\n",
    "    test_mse[j] = sum((Y_hypoth.values - Y_test.values)**2)"
   ]
  },
  {
   "cell_type": "code",
   "execution_count": 32,
   "metadata": {},
   "outputs": [
    {
     "name": "stdout",
     "output_type": "stream",
     "text": [
      "[6907.963269444942, 6954.629330079727, 7199.312859903708, 8070.734456213991, 9996.055981331072, 10722.928955954154, 10931.119031395034, 10931.119031395034]\n",
      "[3542.765191158173, 3487.1701464307503, 3479.67224110303, 3703.71118216124, 4466.6591157982775, 4953.149732824709, 5093.773121362514, 5093.773121362514]\n"
     ]
    }
   ],
   "source": [
    "print(train_mse)\n",
    "print(test_mse)"
   ]
  },
  {
   "cell_type": "code",
   "execution_count": 33,
   "metadata": {},
   "outputs": [
    {
     "data": {
      "text/plain": [
       "[<matplotlib.lines.Line2D at 0x634f950>]"
      ]
     },
     "execution_count": 33,
     "metadata": {},
     "output_type": "execute_result"
    },
    {
     "data": {
      "image/png": "[encoded data removed]",
      "text/plain": [
       "<Figure size 576x396 with 1 Axes>"
      ]
     },
     "metadata": {},
     "output_type": "display_data"
    }
   ],
   "source": [
    "plt.plot(l_options, train_mse, '.b-')\n",
    "plt.xlabel(\"l1 coefficient value\")\n",
    "plt.ylabel(\"MSE\")\n",
    "plt.plot(l_options, test_mse, '.r-')"
   ]
  },
  {
   "cell_type": "code",
   "execution_count": null,
   "metadata": {},
   "outputs": [],
   "source": []
  }
 ],
 "metadata": {
  "kernelspec": {
   "display_name": "Python 3",
   "language": "python",
   "name": "python3"
  },
  "language_info": {
   "codemirror_mode": {
    "name": "ipython",
    "version": 3
   },
   "file_extension": ".py",
   "mimetype": "text/x-python",
   "name": "python",
   "nbconvert_exporter": "python",
   "pygments_lexer": "ipython3",
   "version": "3.7.4"
  }
 },
 "nbformat": 4,
 "nbformat_minor": 4
}
